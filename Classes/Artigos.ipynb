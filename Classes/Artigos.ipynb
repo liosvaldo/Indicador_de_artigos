{
 "cells": [
  {
   "cell_type": "code",
   "execution_count": 25,
   "metadata": {},
   "outputs": [],
   "source": [
    "%%writefile 'Artigos.py'\n",
    "from Definitions import *\n",
    "class Artigos():\n",
    "    \n",
    "    def __init__(self, raiz = os.getcwd(), biblioteca=['esporte', 'politica', 'tecnologia']):\n",
    "        \n",
    "        self.raiz = raiz\n",
    "        self.biblioteca = biblioteca \n",
    "        nltk.download('stopwords')\n",
    "        self.campo_conteudo = ['assunto', 'texto', 'data', 'titulo']\n",
    "    \n",
    "        self.lista_stopwords = nltk.corpus.stopwords.words('portuguese')\n",
    "        self.lista_pontuacao = string.punctuation\n",
    "\n",
    "        \n",
    "        for assunto in biblioteca:\n",
    "            \n",
    "            caminho = os.path.join(self.raiz, assunto)\n",
    "            \n",
    "            if not os.path.isdir(caminho):\n",
    "            \n",
    "                os.mkdir(caminho)\n",
    "         \n",
    "    \n",
    "    def __retira_pontuacao__(self, texto='a vaca, é amarela!!! a a a'):\n",
    "       \n",
    "        for pontuacao in self.lista_pontuacao:\n",
    "            texto = texto.replace(pontuacao, '')\n",
    "        \n",
    "        return texto\n",
    "    \n",
    "    def __retira_stopwords__(self, texto = \"a vaca, é amarela!!!! a a a\"):\n",
    "    \n",
    "        lista_palavras = texto.split()\n",
    "        nova_lista_palavras = []\n",
    "    \n",
    "        for  palavra in lista_palavras:\n",
    "        \n",
    "            palavra = palavra.strip()\n",
    "        \n",
    "            eh_stopwords = palavra in self.lista_stopwords\n",
    "            na_lista = palavra in nova_lista_palavras\n",
    "            \n",
    "            if (not eh_stopwords) and (not na_lista):        \n",
    "                nova_lista_palavras.append(palavra)\n",
    "    \n",
    "        return nova_lista_palavras\n",
    "\n",
    "        \n",
    "    def __ajuste_titulo__(self, titulo):\n",
    "        return \"_\".join(titulo.split(' '))\n",
    "    \n",
    "    def __filtro_palavras__(self, texto='a vaca, é amarela!!! a a a'):\n",
    "        \n",
    "        texto_sem_pontuacao = self.__retira_pontuacao__(texto = texto)\n",
    "        lista_palavras = self.__retira_stopwords__(texto = texto_sem_pontuacao)\n",
    "    \n",
    "        return lista_palavras\n",
    "    \n",
    "    def __relacao_entre_textos__(self, texto_artigo1, texto_artigo2):\n",
    "    \n",
    "        lista_palavras1 = self.__filtro_palavras__(texto_artigo1)\n",
    "        lista_palavras2 = self.__filtro_palavras__(texto_artigo2)\n",
    "\n",
    "        lista_palavras_contidas = list(filter(lambda palavra: palavra in lista_palavras2, lista_palavras1))\n",
    "        porcentagem_palavras_contidas = len(lista_palavras_contidas)/len(lista_palavras1)\n",
    "\n",
    "        return porcentagem_palavras_contidas\n",
    "    \n",
    "    def __pega_artigos__(self, *campo_solicitado,  biblioteca = []):\n",
    "        \n",
    "        biblioteca = self.biblioteca\n",
    "    \n",
    "        pacote = []\n",
    "\n",
    "        for assunto in biblioteca:\n",
    "\n",
    "            assunto_diretorio = os.path.join(self.raiz, assunto)\n",
    "\n",
    "            for artigo in os.listdir(assunto_diretorio):\n",
    "\n",
    "                caminho_artigo = os.path.join(assunto_diretorio, artigo)\n",
    "\n",
    "                if '.ipynb_checkpoints' not in caminho_artigo:\n",
    "\n",
    "                    with open(caminho_artigo, 'r') as artigo_json:\n",
    "\n",
    "                        artigo_dicionario = json.loads(artigo_json.read())\n",
    "                       \n",
    "                        for topico in self.campo_conteudo:\n",
    "                            if topico not in campo_solicitado:\n",
    "                                artigo_dicionario.pop(topico, None)\n",
    "                    \n",
    "                        pacote.append(artigo_dicionario)\n",
    "\n",
    "        os.chdir(self.raiz)\n",
    "        return pacote\n",
    "   \n",
    "    def __separa_artigos__(self, titulo_artigo, conjuto_artigos):\n",
    "        \n",
    "        artigo_referencia = list(filter(lambda artigo: artigo['titulo'] == titulo_artigo, conjuto_artigos))\n",
    "         \n",
    "        artigo_referencia = artigo_referencia[0]\n",
    "        \n",
    "        demais_artigos = list(filter(lambda artigo: artigo['titulo'] != titulo_artigo, conjuto_artigos))\n",
    "        \n",
    "        return artigo_referencia, demais_artigos\n",
    "    \n",
    "    \n",
    "    \n",
    "    def __pega_porcentagem_entre_textos__(self, titulo_artigo='a vaca amarela'):\n",
    "\n",
    "        \n",
    "        conjuto_artigos = self.__pega_artigos__('titulo', 'texto')\n",
    "        \n",
    "        artigo_referencia, demais_artigos = self.__separa_artigos__(titulo_artigo = titulo_artigo, conjuto_artigos=conjuto_artigos)\n",
    "        \n",
    "        pacote = []\n",
    "        \n",
    "        \n",
    "        for outro_artigo in demais_artigos:\n",
    "            \n",
    "            similaridade_com_texto = {}\n",
    "            porcentagem_relacao = self.__relacao_entre_textos__(artigo_referencia['texto'], outro_artigo['texto'])\n",
    "            similaridade_com_texto['titulo'] = outro_artigo['titulo']\n",
    "            similaridade_com_texto['valor'] = porcentagem_relacao\n",
    "            pacote.append(similaridade_com_texto)\n",
    "            \n",
    "        return pacote    \n",
    "    \n",
    "    def melhor_indicacao(self, titulo_artigo='a vaca amarela'):\n",
    "    \n",
    "        api = gerenciador.__pega_porcentagem_entre_textos__(titulo_artigo = titulo_artigo)\n",
    "\n",
    "        indicacoes = sorted(api, key=lambda relacao_artigos: relacao_artigos['valor'])\n",
    "        \n",
    "        return indicacoes[0]\n",
    "    \n",
    "    def adicionar_artigo(self, **artigo):\n",
    "        \n",
    "        print(artigo)\n",
    "        \n",
    "        if artigo['assunto'] not in self.biblioteca:\n",
    "            raise AssuntoNotFound\n",
    "            \n",
    "        novo_artigo = {}\n",
    "        \n",
    "        artigo['titulo'] = artigo['titulo'].lower()\n",
    "        \n",
    "        titulo_sem_espacos = self.__ajuste_titulo__(artigo['titulo'])\n",
    "        \n",
    "        novo_artigo['titulo'] = artigo['titulo']\n",
    "        novo_artigo['data'] = artigo['data']\n",
    "        novo_artigo['assunto'] = artigo['assunto']\n",
    "        novo_artigo['texto'] = artigo['texto']\n",
    "        \n",
    "        arquivo_json = json.dumps(novo_artigo, indent = 4)\n",
    "        \n",
    "        diretorio_novo_arquivo = os.path.join(self.raiz, artigo['assunto'], titulo_sem_espacos + '.txt' )\n",
    "        \n",
    "        with open(diretorio_novo_arquivo, 'w') as arquivo:\n",
    "            arquivo.writelines(arquivo_json)\n",
    "        \n",
    "#         print(novo_artigo)\n",
    "        \n",
    "        \n",
    "    def consultar_por_data(self, reverse = False):\n",
    "        \n",
    "        pacote = self.__pega_artigos__('data', 'titulo', 'assunto')\n",
    "        api = sorted(pacote, key=lambda artigo: artigo['data'])\n",
    "        \n",
    "        if reverse:\n",
    "            api.reverse()\n",
    "            return api\n",
    "        \n",
    "        else:\n",
    "            return api\n",
    "\n",
    "    def criar_grafo(self, titulo_artigo='a vaca amarela'):\n",
    "    \n",
    "        grafo = nx.Graph()\n",
    "\n",
    "        lista_relacoes = self.__pega_porcentagem_entre_textos__(titulo_artigo)\n",
    "\n",
    "        arestas = []\n",
    "\n",
    "        for artigo in lista_relacoes:\n",
    "            dados_relacao = (titulo_artigo, artigo['titulo'], artigo['valor'])\n",
    "            arestas.append(dados_relacao)\n",
    "\n",
    "        grafo.add_weighted_edges_from(arestas)\n",
    "\n",
    "        pos = nx.spring_layout(grafo, seed=42)\n",
    "\n",
    "        nx.draw(grafo, pos, with_labels=True)\n",
    "\n",
    "        atributo_arestas = nx.get_edge_attributes(grafo, 'weight')\n",
    "        nx.draw_networkx_edge_labels(grafo, pos, edge_labels=atributo_arestas)\n",
    "        plt.show()\n"
   ]
  },
  {
   "cell_type": "markdown",
   "metadata": {},
   "source": [
    "### Testes da classe\n"
   ]
  },
  {
   "cell_type": "markdown",
   "metadata": {},
   "source": [
    "#### criação da classe"
   ]
  },
  {
   "cell_type": "code",
   "execution_count": 5,
   "metadata": {},
   "outputs": [
    {
     "name": "stdout",
     "output_type": "stream",
     "text": [
      "C:\\Users\\Acer\\OneDrive\\Estudos\\UFPE\\2020.2\\Santander\\Santander coders\\Indicador_de_artigos\\Classes\n"
     ]
    },
    {
     "name": "stderr",
     "output_type": "stream",
     "text": [
      "[nltk_data] Downloading package stopwords to\n",
      "[nltk_data]     C:\\Users\\Acer\\AppData\\Roaming\\nltk_data...\n",
      "[nltk_data]   Package stopwords is already up-to-date!\n"
     ]
    }
   ],
   "source": [
    "print(os.getcwd())\n",
    "raiz = os.getcwd()\n",
    "gerenciador = Artigos(raiz)"
   ]
  },
  {
   "cell_type": "markdown",
   "metadata": {},
   "source": [
    "#### Adicionando um artigo\n"
   ]
  },
  {
   "cell_type": "code",
   "execution_count": 24,
   "metadata": {},
   "outputs": [
    {
     "name": "stdout",
     "output_type": "stream",
     "text": [
      "{'titulo': 'a vaca amarela', 'assunto': 'politica', 'data': '13/02/1999', 'texto': 'a vaca amarela caminhou até a venda'}\n"
     ]
    },
    {
     "name": "stderr",
     "output_type": "stream",
     "text": [
      "[nltk_data] Downloading package stopwords to\n",
      "[nltk_data]     C:\\Users\\Acer\\AppData\\Roaming\\nltk_data...\n",
      "[nltk_data]   Package stopwords is already up-to-date!\n"
     ]
    }
   ],
   "source": [
    "raiz = os.getcwd()\n",
    "gerenciador = Artigos(raiz)\n",
    "artigo = {}\n",
    "artigo['titulo'] = 'a vaca amarela'\n",
    "artigo['assunto'] = 'politica'\n",
    "artigo['data'] = '13/02/1999'\n",
    "artigo['texto'] = 'a vaca amarela caminhou até a venda'\n",
    "gerenciador.adicionar_artigo(**artigo)\n"
   ]
  },
  {
   "cell_type": "markdown",
   "metadata": {},
   "source": [
    "#### Ordenando por datas\n"
   ]
  },
  {
   "cell_type": "code",
   "execution_count": 15,
   "metadata": {},
   "outputs": [
    {
     "name": "stdout",
     "output_type": "stream",
     "text": [
      "[{'titulo': 'a vaca amarela5', 'data': '13/05/1999', 'assunto': 'politica'}, {'titulo': 'a vaca amarela1', 'data': '13/05/1999', 'assunto': 'politica'}, {'titulo': 'a vaca amarela6', 'data': '13/02/1999', 'assunto': 'politica'}, {'titulo': 'a vaca amarela2', 'data': '13/02/1999', 'assunto': 'politica'}, {'titulo': 'a vaca amarela', 'data': '13/02/1999', 'assunto': 'politica'}]\n"
     ]
    },
    {
     "name": "stderr",
     "output_type": "stream",
     "text": [
      "[nltk_data] Downloading package stopwords to\n",
      "[nltk_data]     C:\\Users\\Acer\\AppData\\Roaming\\nltk_data...\n",
      "[nltk_data]   Package stopwords is already up-to-date!\n"
     ]
    }
   ],
   "source": [
    "raiz = os.getcwd()\n",
    "gerenciador = Artigos(raiz)\n",
    "api = gerenciador.consultar_por_data(True)\n",
    "print(api)\n"
   ]
  },
  {
   "cell_type": "markdown",
   "metadata": {},
   "source": [
    "#### Retirando pontuacao do texto"
   ]
  },
  {
   "cell_type": "code",
   "execution_count": 8,
   "metadata": {},
   "outputs": [
    {
     "name": "stdout",
     "output_type": "stream",
     "text": [
      "a vaca é amarela a a a\n"
     ]
    },
    {
     "name": "stderr",
     "output_type": "stream",
     "text": [
      "[nltk_data] Downloading package stopwords to\n",
      "[nltk_data]     C:\\Users\\Acer\\AppData\\Roaming\\nltk_data...\n",
      "[nltk_data]   Package stopwords is already up-to-date!\n"
     ]
    }
   ],
   "source": [
    "gerenciador = Artigos(raiz)\n",
    "resultado = gerenciador.__retira_pontuacao__()\n",
    "print(resultado)\n",
    "    "
   ]
  },
  {
   "cell_type": "markdown",
   "metadata": {},
   "source": [
    "#### Retirando stopwords"
   ]
  },
  {
   "cell_type": "code",
   "execution_count": 9,
   "metadata": {},
   "outputs": [
    {
     "name": "stdout",
     "output_type": "stream",
     "text": [
      "['vaca,', 'amarela!!!!']\n"
     ]
    },
    {
     "name": "stderr",
     "output_type": "stream",
     "text": [
      "[nltk_data] Downloading package stopwords to\n",
      "[nltk_data]     C:\\Users\\Acer\\AppData\\Roaming\\nltk_data...\n",
      "[nltk_data]   Package stopwords is already up-to-date!\n"
     ]
    }
   ],
   "source": [
    "gerenciador = Artigos(raiz)\n",
    "texto = \"a vaca, é amarela!!!! a a a\"\n",
    "lista_palavras1 = gerenciador.__retira_stopwords__(texto)\n",
    "print(lista_palavras1)\n"
   ]
  },
  {
   "cell_type": "markdown",
   "metadata": {},
   "source": [
    "#### Filtrar palavras"
   ]
  },
  {
   "cell_type": "code",
   "execution_count": 10,
   "metadata": {},
   "outputs": [
    {
     "name": "stdout",
     "output_type": "stream",
     "text": [
      "['vaca', 'amarela']\n"
     ]
    },
    {
     "name": "stderr",
     "output_type": "stream",
     "text": [
      "[nltk_data] Downloading package stopwords to\n",
      "[nltk_data]     C:\\Users\\Acer\\AppData\\Roaming\\nltk_data...\n",
      "[nltk_data]   Package stopwords is already up-to-date!\n"
     ]
    }
   ],
   "source": [
    "gerenciador = Artigos()\n",
    "lista_palavras = gerenciador.__filtro_palavras__()\n",
    "print(lista_palavras)"
   ]
  },
  {
   "cell_type": "markdown",
   "metadata": {},
   "source": [
    "#### Relacao entre os textos"
   ]
  },
  {
   "cell_type": "code",
   "execution_count": 11,
   "metadata": {},
   "outputs": [
    {
     "name": "stdout",
     "output_type": "stream",
     "text": [
      "0.75\n",
      "0.375\n"
     ]
    },
    {
     "name": "stderr",
     "output_type": "stream",
     "text": [
      "[nltk_data] Downloading package stopwords to\n",
      "[nltk_data]     C:\\Users\\Acer\\AppData\\Roaming\\nltk_data...\n",
      "[nltk_data]   Package stopwords is already up-to-date!\n"
     ]
    }
   ],
   "source": [
    "gerenciador = Artigos()\n",
    "texto1 = 'estavamos todos dentro de casa'\n",
    "texto2 = 'estavamos todos dentro na rua, logo em seguida um cachorro nos atacou'\n",
    "\n",
    "resultado = gerenciador.__relacao_entre_textos__(texto1, texto2)\n",
    "print(resultado)\n",
    "\n",
    "resultado2 = gerenciador.__relacao_entre_textos__(texto2, texto1)\n",
    "print(resultado2)\n",
    "        "
   ]
  },
  {
   "cell_type": "markdown",
   "metadata": {},
   "source": [
    "#### Obtem dados para a indicação\n",
    "utilizando a função relacao entre os textos você deve calcular a porcentagem de relacao entre todos os textos da biblioteca"
   ]
  },
  {
   "cell_type": "code",
   "execution_count": 12,
   "metadata": {},
   "outputs": [
    {
     "name": "stdout",
     "output_type": "stream",
     "text": [
      "[{'titulo': 'a vaca amarela1', 'valor': 1.0}, {'titulo': 'a vaca amarela2', 'valor': 1.0}, {'titulo': 'a vaca amarela5', 'valor': 1.0}, {'titulo': 'a vaca amarela6', 'valor': 1.0}]\n"
     ]
    },
    {
     "name": "stderr",
     "output_type": "stream",
     "text": [
      "[nltk_data] Downloading package stopwords to\n",
      "[nltk_data]     C:\\Users\\Acer\\AppData\\Roaming\\nltk_data...\n",
      "[nltk_data]   Package stopwords is already up-to-date!\n"
     ]
    }
   ],
   "source": [
    "gerenciador = Artigos()\n",
    "api = gerenciador.__pega_porcentagem_entre_textos__(titulo_artigo='a vaca amarela')\n",
    "print(api)      \n"
   ]
  },
  {
   "cell_type": "markdown",
   "metadata": {},
   "source": [
    "#### Indicação"
   ]
  },
  {
   "cell_type": "markdown",
   "metadata": {},
   "source": [
    "método que indicara a melhor opção para o usuário"
   ]
  },
  {
   "cell_type": "code",
   "execution_count": 13,
   "metadata": {},
   "outputs": [
    {
     "name": "stdout",
     "output_type": "stream",
     "text": [
      "{'titulo': 'a vaca amarela1', 'valor': 1.0}\n"
     ]
    },
    {
     "name": "stderr",
     "output_type": "stream",
     "text": [
      "[nltk_data] Downloading package stopwords to\n",
      "[nltk_data]     C:\\Users\\Acer\\AppData\\Roaming\\nltk_data...\n",
      "[nltk_data]   Package stopwords is already up-to-date!\n"
     ]
    }
   ],
   "source": [
    "gerenciador = Artigos()\n",
    "melhor_indicacao = gerenciador.melhor_indicacao(titulo_artigo='a vaca amarela')\n",
    "print(melhor_indicacao)"
   ]
  },
  {
   "cell_type": "markdown",
   "metadata": {},
   "source": [
    "\n",
    "\n",
    "#### Criar grafo "
   ]
  },
  {
   "cell_type": "markdown",
   "metadata": {},
   "source": [
    "analise visual das relações entre os artigos"
   ]
  },
  {
   "cell_type": "code",
   "execution_count": 14,
   "metadata": {},
   "outputs": [
    {
     "name": "stderr",
     "output_type": "stream",
     "text": [
      "[nltk_data] Downloading package stopwords to\n",
      "[nltk_data]     C:\\Users\\Acer\\AppData\\Roaming\\nltk_data...\n",
      "[nltk_data]   Package stopwords is already up-to-date!\n"
     ]
    },
    {
     "data": {
      "image/png": "[encoded data removed]",
      "text/plain": [
       "<Figure size 432x288 with 1 Axes>"
      ]
     },
     "metadata": {},
     "output_type": "display_data"
    }
   ],
   "source": [
    "gerenciador = Artigos()\n",
    "gerenciador.criar_grafo(titulo_artigo='a vaca amarela')"
   ]
  }
 ],
 "metadata": {
  "kernelspec": {
   "display_name": "Python 3",
   "language": "python",
   "name": "python3"
  },
  "language_info": {
   "codemirror_mode": {
    "name": "ipython",
    "version": 3
   },
   "file_extension": ".py",
   "mimetype": "text/x-python",
   "name": "python",
   "nbconvert_exporter": "python",
   "pygments_lexer": "ipython3",
   "version": "3.7.9"
  }
 },
 "nbformat": 4,
 "nbformat_minor": 4
}
