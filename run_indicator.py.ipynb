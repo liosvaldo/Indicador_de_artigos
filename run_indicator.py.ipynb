{
 "cells": [
  {
   "cell_type": "code",
   "execution_count": 1,
   "metadata": {},
   "outputs": [],
   "source": [
    "from Definitions.Definitions import Menu"
   ]
  },
  {
   "cell_type": "code",
   "execution_count": 2,
   "metadata": {},
   "outputs": [
    {
     "name": "stderr",
     "output_type": "stream",
     "text": [
      "[nltk_data] Downloading package stopwords to\n",
      "[nltk_data]     C:\\Users\\Acer\\AppData\\Roaming\\nltk_data...\n",
      "[nltk_data]   Package stopwords is already up-to-date!\n"
     ]
    }
   ],
   "source": [
    "menu = Menu()"
   ]
  },
  {
   "cell_type": "code",
   "execution_count": null,
   "metadata": {},
   "outputs": [
    {
     "name": "stdout",
     "output_type": "stream",
     "text": [
      "Classificador de artigo mais parecido\n",
      "O que você deseja fazer?\n",
      "1 - Adicionar um artigo\n",
      "2 - Consultar artigos por data mais recente?\n",
      "3 - Verificar qual a melhor indicação com base no titulo do artigo\n",
      "4 - Criar grafo de relaçao com base no titulo do artigo\n",
      "5 - Sair do programa\n",
      "Digite um numero: 2\n",
      "2\n",
      "iniciando a consulta por data:\n",
      "consultando base de arquivos...\n",
      "você deseja obter em ordem crescente ou em ordem decrescente?\n",
      "1 - mais novo encima\n",
      "2 - mais antigo encima\n",
      "sua resposta é: 1\n",
      "mais novo encima selecionado!\n",
      "[{'titulo': 'a ultima vaca amarela', 'data': '13/05/1900', 'assunto': 'politica'}, {'titulo': 'a vaca amarela34', 'data': '13/01/1999', 'assunto': 'esporte'}, {'titulo': 'a vaca amarela', 'data': '13/02/1999', 'assunto': 'esporte'}, {'titulo': 'a vaca amarela2', 'data': '13/03/1999', 'assunto': 'esporte'}, {'titulo': 'a vaca amarela3', 'data': '13/04/1999', 'assunto': 'esporte'}, {'titulo': 'a vaca amarela5', 'data': '13/05/1999', 'assunto': 'esporte'}, {'titulo': 'a vaca amarela5', 'data': '13/05/1999', 'assunto': 'politica'}, {'titulo': 'a vaca amarela5', 'data': '13/05/1999', 'assunto': 'tecnologia'}]\n",
      "Tabela de artigos por data de publicação\n",
      "titulo: a ultima vaca amarela;assunto: politica ;data publicada: 13/05/1900\n",
      "titulo: a vaca amarela34;assunto: esporte ;data publicada: 13/01/1999\n",
      "titulo: a vaca amarela;assunto: esporte ;data publicada: 13/02/1999\n",
      "titulo: a vaca amarela2;assunto: esporte ;data publicada: 13/03/1999\n",
      "titulo: a vaca amarela3;assunto: esporte ;data publicada: 13/04/1999\n",
      "titulo: a vaca amarela5;assunto: esporte ;data publicada: 13/05/1999\n",
      "titulo: a vaca amarela5;assunto: politica ;data publicada: 13/05/1999\n",
      "titulo: a vaca amarela5;assunto: tecnologia ;data publicada: 13/05/1999\n",
      "fim de lista\n",
      "\n",
      "\n",
      "\n",
      "Classificador de artigo mais parecido\n",
      "O que você deseja fazer?\n",
      "1 - Adicionar um artigo\n",
      "2 - Consultar artigos por data mais recente?\n",
      "3 - Verificar qual a melhor indicação com base no titulo do artigo\n",
      "4 - Criar grafo de relaçao com base no titulo do artigo\n",
      "5 - Sair do programa\n"
     ]
    }
   ],
   "source": [
    "menu.run()"
   ]
  }
 ],
 "metadata": {
  "kernelspec": {
   "display_name": "Python 3",
   "language": "python",
   "name": "python3"
  },
  "language_info": {
   "codemirror_mode": {
    "name": "ipython",
    "version": 3
   },
   "file_extension": ".py",
   "mimetype": "text/x-python",
   "name": "python",
   "nbconvert_exporter": "python",
   "pygments_lexer": "ipython3",
   "version": "3.7.9"
  }
 },
 "nbformat": 4,
 "nbformat_minor": 4
}
