{
 "cells": [
  {
   "cell_type": "markdown",
   "metadata": {},
   "source": [
    "Poderá também ter um relatório de quais artigos são mais parecidos. (utilize como métrica número de palavras únicas coincidentes dividido pela soma de palavras únicas dos artigos). "
   ]
  },
  {
   "cell_type": "code",
   "execution_count": 46,
   "metadata": {},
   "outputs": [],
   "source": [
    "%config Completer.use_jedi = False\n",
    "import os\n",
    "import nltk\n",
    "from Classes.Artigos import Artigos\n",
    "import string"
   ]
  },
  {
   "cell_type": "code",
   "execution_count": 41,
   "metadata": {},
   "outputs": [],
   "source": [
    "artigos = Artigos(os.getcwd())\n"
   ]
  },
  {
   "cell_type": "code",
   "execution_count": 101,
   "metadata": {},
   "outputs": [
    {
     "name": "stderr",
     "output_type": "stream",
     "text": [
      "[nltk_data] Downloading package stopwords to\n",
      "[nltk_data]     C:\\Users\\Acer\\AppData\\Roaming\\nltk_data...\n",
      "[nltk_data]   Package stopwords is already up-to-date!\n"
     ]
    }
   ],
   "source": [
    "nltk.download('stopwords')\n",
    "lista_stopwords = nltk.corpus.stopwords.words('portuguese')\n",
    "\n",
    "lista_pontuacao = string.punctuation\n",
    "# lista_stopwords"
   ]
  },
  {
   "cell_type": "code",
   "execution_count": 124,
   "metadata": {},
   "outputs": [
    {
     "name": "stdout",
     "output_type": "stream",
     "text": [
      "['vaca,', 'amarela!!!!']\n"
     ]
    }
   ],
   "source": [
    "def __retira_stopwords__(texto = \"a vaca, é amarela!!!! a a a\"):\n",
    "    \n",
    "    lista_palavras = texto.split()\n",
    "    nova_lista_palavras = []\n",
    "    \n",
    "    for  palavra in lista_palavras:\n",
    "        \n",
    "        palavra = palavra.strip()\n",
    "        \n",
    "        eh_stopwords = palavra in lista_stopwords\n",
    "        na_lista = palavra in nova_lista_palavras\n",
    "            \n",
    "        if (not eh_stopwords) and (not na_lista):        \n",
    "            nova_lista_palavras.append(palavra)\n",
    "    \n",
    "    return nova_lista_palavras\n",
    "\n",
    "\n",
    "lista_palavras1 = __retira_stopwords__()\n",
    "print(lista_palavras1)\n"
   ]
  },
  {
   "cell_type": "code",
   "execution_count": 125,
   "metadata": {},
   "outputs": [
    {
     "name": "stdout",
     "output_type": "stream",
     "text": [
      "a vaca é amarela a a a\n"
     ]
    }
   ],
   "source": [
    "def __retira_pontuacao__(texto='a vaca, é amarela!!! a a a'):\n",
    "    \n",
    "    for pontuacao in lista_pontuacao:\n",
    "        texto = texto.replace(pontuacao, '')\n",
    "        \n",
    "    return texto\n",
    "\n",
    "resultado = __retira_pontuacao__()\n",
    "print(resultado)\n",
    "    "
   ]
  },
  {
   "cell_type": "code",
   "execution_count": 130,
   "metadata": {},
   "outputs": [
    {
     "name": "stdout",
     "output_type": "stream",
     "text": [
      "['vaca', 'amarela']\n"
     ]
    }
   ],
   "source": [
    "def __filtro_palavras__(texto='a vaca, é amarela!!! a a a'):\n",
    "    texto_sem_pontuacao = __retira_pontuacao__(texto = texto)\n",
    "    lista_palavras = __retira_stopwords__(texto = texto_sem_pontuacao)\n",
    "    return lista_palavras\n",
    "\n",
    "lista_palavras = __filtro_palavras__()\n",
    "print(lista_palavras)"
   ]
  },
  {
   "cell_type": "code",
   "execution_count": 71,
   "metadata": {},
   "outputs": [],
   "source": [
    "Titulo = \"A Importância De Um UX Designer No Seu Negócio\"\n",
    "\n",
    "Assunto =  \"Tecnologia\"\n",
    "\n",
    "Data_Publicacao = \"2021/09/10\"\n",
    "\n",
    "Texto = \"\"\"User Experience, ou Experiência do Usuário, é a criação de artefatos voltados a entregar o melhor conteúdo com a melhor experiência ao usuário. Entender a forma como pensamos e se colocar como um consumidor são essenciais para a criação de qualquer produto ou negócio. Por isso, é fundamental a importância de um UX designer no seu negócio!\n",
    "\n",
    "Esse profissional será a peça-chave que conectará a sensação de garantia e qualidade à sua marca. Isso resultará em clientes satisfeitos e fiéis ao seu produto.\n",
    "\n",
    "Quando pensamos em bons produtos, grande parte das pessoas logo pensam em objetos. Sejam eles carros luxuosos, perfumes premium, roupas de grife, entre outros. Na realidade, um bom produto costuma ser reconhecido quando quebra ou em caso de perda. Ou seja, é algo simples, intuitivo e que te auxilia de alguma forma.\n",
    "\n",
    "Você já parou para analisar o Google? Se sim, você vai saber exatamente sobre o que estou falando. Extremamente intuitivo com apenas 4 componentes na tela inicial, como pode ser visto na imagem abaixo.\n",
    "\n",
    "Componentes do Google O primeiro elemento é uma imagem sobre algum tema comemorativo, você já deve ter se deparado com o Google celebrando a Copa do Mundo ou as Olimpíadas. Já o segundo é o mais importante de todos, é o que todos nós procuramos quando entramos nele, o campo de busca. Por fim, o terceiro e o quarto componentes são os botões que realizam a sua pesquisa. A única diferença é que o quarto te leva diretamente para a página do que você está buscando.\n",
    "\n",
    "É inegável a importância do Google nas nossas vidas, além de já estarmos acostumados a pesquisar tudo por lá. Desde produtos que desejamos comprar até definição de uma palavra, por exemplo. Mas agora eu te pergunto: se toda vez que você quisesse realizar uma pesquisa, você tivesse que acessar 3 menus diferentes, clicar 20 vezes e ler 5 parágrafos de texto, você ainda usaria esse site?\n",
    "\n",
    "Imagino que a resposta seja não, né? Mas onde entra o UX? Bem, ele não está relacionado apenas a elementos virtuais, aos produtos físicos também. Você que está lendo esse texto na tela do seu celular, como você chegou até essa altura do artigo? A resposta provavelmente será a seguinte: você simplesmente deslizou o dedo para cima na tela do seu dispositivo. Esse é outro ótimo exemplo da boa aplicação de UX.\n",
    "\n",
    "Agora que você sabe a importância de um UX design na sua equipe, vamos falar sobre onde esse profissional poderá atuar para alavancar seus negócios!\n",
    "\n",
    "Um bom profissional de UX possui capacidade interdisciplinar e se interessa bastante por psicologia, design, marketing, entre outros. Quando falamos de interdisciplinaridade na área de UX, nos referimos à importância do estudo e do levantamento de referências durante todo o processo de criação de um novo projeto. Esse profissional irá realizar uma série de estudos e pesquisas com o objetivo de projetar a melhor solução e também a mais prática de utilizar.\n",
    "\n",
    "Outro ponto fundamental na área de UX está na acessibilidade do produto. Voltando ao exemplo do Google, está evidente a preocupação deles com a acessibilidade. No campo de digitar o que você está procurando há duas formas alternativas de inserção de texto. A primeira sendo por meio do teclado virtual, já a segunda é por comando de voz. Tudo isso pode ser resumido a uma única palavra: empatia. Um profissional de UX deve sempre pensar no usuário do produto indiferentemente de quem ele seja.\n",
    "\n",
    "Com isso, um bom UX na sua equipe irá aumentar as taxas de conversão de forma indireta lidando com questões como a navegabilidade do cliente, disposição dos elementos visuais, a facilidade de acesso às funcionalidades, a responsividade do sistema aos mais diversos dispositivos, a velocidade de carregamento do sistema, entre outros.\n",
    "\n",
    "Por outro lado, um profissional despreparado pode facilmente fazer com que seu produto se torne um meme na internet pelos seus usuários. Afinal, vemos muito disso, né?\n",
    "\n",
    "Meme sobre usabilidade Por isso que nós da Let's Code temos como sonho e objetivo educar a nova geração de profissionais qualificados a mudar o mundo para melhor! (e mais prático). A demanda por esse profissional segue crescente, afinal, a experiência oferecida ao usuário tem grande peso na jornada dele como consumidor. Vamos deixar para falar mais a fundo sobre isso em outro artigo?\"\"\""
   ]
  }
 ],
 "metadata": {
  "kernelspec": {
   "display_name": "Python 3",
   "language": "python",
   "name": "python3"
  },
  "language_info": {
   "codemirror_mode": {
    "name": "ipython",
    "version": 3
   },
   "file_extension": ".py",
   "mimetype": "text/x-python",
   "name": "python",
   "nbconvert_exporter": "python",
   "pygments_lexer": "ipython3",
   "version": "3.7.9"
  }
 },
 "nbformat": 4,
 "nbformat_minor": 4
}
